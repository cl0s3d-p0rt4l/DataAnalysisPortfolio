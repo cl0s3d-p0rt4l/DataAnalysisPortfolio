{
 "cells": [
  {
   "cell_type": "code",
   "execution_count": 4,
   "id": "d4a361d9-197d-4d60-b273-b51b63cf33cf",
   "metadata": {},
   "outputs": [],
   "source": [
    "# Import Libraries \n",
    "\n",
    "from bs4 import BeautifulSoup\n",
    "import requests\n",
    "import time\n",
    "import datetime\n",
    "\n",
    "import smtplib\n"
   ]
  },
  {
   "cell_type": "code",
   "execution_count": 38,
   "id": "33f5c2c7-c310-4cb2-9241-831544658e7c",
   "metadata": {},
   "outputs": [
    {
     "name": "stdout",
     "output_type": "stream",
     "text": [
      "Asus TUF Gaming A15 FA507UI-LP127 8GB RTX4070 140w Ryzen 9 8945HS 16GB RAM 512GB SSD 15.6 inç FHD 144Hz\n",
      "53.999\n"
     ]
    }
   ],
   "source": [
    "# Connecting to Website and pulling in data\n",
    "\n",
    "URL = 'https://www.amazon.com.tr/Gaming-FA507UI-LP127-RTX4070-Ryzen-8945HS/dp/B0D8L2QRRB/ref=sr_1_5?__mk_tr_TR=%C3%85M%C3%85%C5%BD%C3%95%C3%91&crid=N36OJ5J30LNZ&dib=eyJ2IjoiMSJ9.21JSpi8uae8Q4Dyge9kYu7u9KU4li-deO3h2Ff-SVf4377aQiu-azgFc6vYZMuB5J8QnZQ_lP7BFsnEO-QcMJ1WrXTgsP3fCKpDB3g4owoh6cAFOoNe0_AHM_lrPXS0HEVkNMpgV9w2Op3aERMwWcA.TUw22ToW53_yjQLbSfZSTpPY6lSq3IBED-oN1C0YqWo&dib_tag=se&keywords=asus+tuf+gaming&qid=1722417414&refinements=p_123%3A219979%2Cp_n_feature_two_browse-bin%3A27355749031%2Cp_n_feature_fifteen_browse-bin%3A21761290031%7C21761291031&rnid=12783655031&s=computers&sprefix=asus+tuf+gamin%2Caps%2C121&sr=1-5'\n",
    "\n",
    "headers = {\"User-Agent\": \"Mozilla/5.0 (Windows NT 10.0; Win64; x64) AppleWebKit/537.36 (KHTML, like Gecko) Chrome/127.0.0.0 Safari/537.36 Edg/127.0.0.0\"}\n",
    "\n",
    "page = requests.get(URL, headers=headers)\n",
    "\n",
    "soup1 = BeautifulSoup(page.content, \"html.parser\")\n",
    "\n",
    "soup2 = BeautifulSoup(soup1.prettify(), \"html.parser\")\n",
    "\n",
    "title = soup2.find(id='productTitle').get_text(strip=True)\n",
    "\n",
    "price = soup2.find('span', class_='a-price-whole').get_text(strip=True).replace(',','')\n",
    "\n",
    "print(title)\n",
    "print(price)"
   ]
  },
  {
   "cell_type": "code",
   "execution_count": 42,
   "id": "db7abdeb-7503-4b00-bab1-744e91107692",
   "metadata": {},
   "outputs": [
    {
     "name": "stdout",
     "output_type": "stream",
     "text": [
      "2024-07-31\n"
     ]
    }
   ],
   "source": [
    "# Creating a Timestamp for the output to track when data was collected\n",
    "\n",
    "import datetime\n",
    "\n",
    "today = datetime.date.today()\n",
    "\n",
    "print(today)"
   ]
  },
  {
   "cell_type": "code",
   "execution_count": 64,
   "id": "23ea9f2d-46c5-4ed6-9f89-a2246c35ba75",
   "metadata": {},
   "outputs": [],
   "source": [
    "# Creating a CSV file and writing headers and data into it\n",
    "\n",
    "import csv\n",
    "\n",
    "header = ['Title','Price','Date']\n",
    "data = [title, price, today]\n",
    "\n",
    "with open('AmazonWebScrapingDataset.csv','w', newline='', encoding='UTF8') as f:\n",
    "    writer = csv.writer(f, delimiter=';')\n",
    "    writer.writerow(header)\n",
    "    writer.writerow(data)\n",
    "\n"
   ]
  },
  {
   "cell_type": "code",
   "execution_count": 68,
   "id": "b24c4a71-ce43-43c6-b946-79a4815c137a",
   "metadata": {},
   "outputs": [
    {
     "name": "stdout",
     "output_type": "stream",
     "text": [
      "                                               Title   Price        Date\n",
      "0  Asus TUF Gaming A15 FA507UI-LP127 8GB RTX4070 ...  53.999  2024-07-31\n"
     ]
    }
   ],
   "source": [
    "import pandas as pd\n",
    "\n",
    "df= pd.read_csv(r'C:\\Users\\pc\\AmazonWebScrapingDataset.csv', delimiter=';')\n",
    "\n",
    "print(df)"
   ]
  },
  {
   "cell_type": "code",
   "execution_count": 70,
   "id": "c8dd315e-61e7-4732-ae6e-8d5cd69c3312",
   "metadata": {},
   "outputs": [],
   "source": [
    "# Appending data to the csv\n",
    "\n",
    "with open('AmazonWebScrapingDataset.csv','a+', newline='', encoding='UTF8') as f:\n",
    "    writer = csv.writer(f, delimiter=';')\n",
    "    writer.writerow(data)"
   ]
  },
  {
   "cell_type": "code",
   "execution_count": 72,
   "id": "570e6200-ae22-4a0e-8452-726003f2dd81",
   "metadata": {},
   "outputs": [],
   "source": [
    "# Combining all into one function\n",
    "\n",
    "def check_price():\n",
    "    URL = 'https://www.amazon.com.tr/Gaming-FA507UI-LP127-RTX4070-Ryzen-8945HS/dp/B0D8L2QRRB/ref=sr_1_5?__mk_tr_TR=%C3%85M%C3%85%C5%BD%C3%95%C3%91&crid=N36OJ5J30LNZ&dib=eyJ2IjoiMSJ9.21JSpi8uae8Q4Dyge9kYu7u9KU4li-deO3h2Ff-SVf4377aQiu-azgFc6vYZMuB5J8QnZQ_lP7BFsnEO-QcMJ1WrXTgsP3fCKpDB3g4owoh6cAFOoNe0_AHM_lrPXS0HEVkNMpgV9w2Op3aERMwWcA.TUw22ToW53_yjQLbSfZSTpPY6lSq3IBED-oN1C0YqWo&dib_tag=se&keywords=asus+tuf+gaming&qid=1722417414&refinements=p_123%3A219979%2Cp_n_feature_two_browse-bin%3A27355749031%2Cp_n_feature_fifteen_browse-bin%3A21761290031%7C21761291031&rnid=12783655031&s=computers&sprefix=asus+tuf+gamin%2Caps%2C121&sr=1-5'\n",
    "    headers = {\"User-Agent\": \"Mozilla/5.0 (Windows NT 10.0; Win64; x64) AppleWebKit/537.36 (KHTML, like Gecko) Chrome/127.0.0.0 Safari/537.36 Edg/127.0.0.0\"}\n",
    "    page = requests.get(URL, headers=headers)\n",
    "    \n",
    "    soup1 = BeautifulSoup(page.content, \"html.parser\")\n",
    "    soup2 = BeautifulSoup(soup1.prettify(), \"html.parser\")\n",
    "    \n",
    "    title = soup2.find(id='productTitle').get_text(strip=True)\n",
    "    price = soup2.find('span', class_='a-price-whole').get_text(strip=True).replace(',','')\n",
    "\n",
    "    import datetime\n",
    "    today = datetime.date.today()\n",
    "\n",
    "    import csv\n",
    "    header = ['Title','Price','Date']\n",
    "    data = [title, price, today]\n",
    "\n",
    "    with open('AmazonWebScrapingDataset.csv','a+', newline='', encoding='UTF8') as f:\n",
    "        writer = csv.writer(f, delimiter=';')\n",
    "        writer.writerow(data)"
   ]
  },
  {
   "cell_type": "code",
   "execution_count": null,
   "id": "70f23c21-2b7d-4d26-b318-bebf1e4799bd",
   "metadata": {},
   "outputs": [],
   "source": [
    "# Running check_price after a set time and inputs data into your CSV\n",
    "\n",
    "while(True):\n",
    "    check_price()\n",
    "    time.sleep(86400)"
   ]
  }
 ],
 "metadata": {
  "kernelspec": {
   "display_name": "Python 3 (ipykernel)",
   "language": "python",
   "name": "python3"
  },
  "language_info": {
   "codemirror_mode": {
    "name": "ipython",
    "version": 3
   },
   "file_extension": ".py",
   "mimetype": "text/x-python",
   "name": "python",
   "nbconvert_exporter": "python",
   "pygments_lexer": "ipython3",
   "version": "3.12.4"
  }
 },
 "nbformat": 4,
 "nbformat_minor": 5
}
